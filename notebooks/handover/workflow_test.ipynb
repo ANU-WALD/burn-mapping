{
 "cells": [
  {
   "cell_type": "code",
   "execution_count": 10,
   "metadata": {},
   "outputs": [],
   "source": [
    "import pandas as pd\n",
    "import pyproj\n",
    "import xarray as xr\n",
    "from loaddea import loaddea\n",
    "from burnmapping import severitymapping,geomedian,nbrdist,cosdist\n",
    "import time"
   ]
  },
  {
   "cell_type": "code",
   "execution_count": 2,
   "metadata": {},
   "outputs": [],
   "source": [
    "import pandas as pd\n",
    "import xarray as xr\n",
    "%matplotlib inline"
   ]
  },
  {
   "cell_type": "code",
   "execution_count": 5,
   "metadata": {},
   "outputs": [
    {
     "name": "stdout",
     "output_type": "stream",
     "text": [
      "Load data for SirIvan \n",
      "\n",
      "(149.5343, 149.7843) (-32.189900000000002, -31.939900000000002) ('2013-01-01', '2016-12-31')\n"
     ]
    }
   ],
   "source": [
    "testsite=20\n",
    "sites = pd.read_csv('sites.txt')\n",
    "wgs84 = pyproj.Proj(init='epsg:4326')\n",
    "gda94 = pyproj.Proj(init='epsg:3577')\n",
    "\n",
    "sites = pd.read_csv('sites.txt')\n",
    "easting,northing = pyproj.transform(wgs84,gda94,sites.centre_longitude[testsite],sites.centre_latitude[testsite])\n",
    "\n",
    "print(\"Load data for {} \\n\".format(sites.region_name[testsite]))\n",
    "lon = (sites.centre_longitude[testsite]-0.125,sites.centre_longitude[testsite]+0.125) # min to max\n",
    "lat = (sites.centre_latitude[testsite]-0.125,sites.centre_latitude[testsite]+0.125)\n",
    "x = (easting-12500,easting+12500)\n",
    "y = (northing+12500,northing-12500)\n",
    "\n",
    "if sites.year[testsite]>=2013:\n",
    "    datatime = ('2013-01-01',str(sites.year[testsite])+'-12-31')\n",
    "    reftime = ('2013-01-01',str(sites.year[testsite]-1)+'-12-31')# period used for the calculation of geometric median\n",
    "    sensor = 8\n",
    "else:\n",
    "    datatime = (str(sites.year[testsite]-5)+'-01-01',str(sites.year[testsite])+'-12-31')\n",
    "    reftime = (str(sites.year[testsite]-5)+'-01-01',str(sites.year[testsite]-1)+'-12-31')\n",
    "    sensor = 5\n",
    "res = (-25,25) # resolution in meters\n",
    "print(lon,lat,reftime)\n",
    "severity_period =(str(sites.year[testsite])+'-01-01',str(sites.year[testsite])+'-12-31') # period of interest for change/severity mapping\n",
    "method = 3 # change detection method\n",
    "\n"
   ]
  },
  {
   "cell_type": "code",
   "execution_count": 6,
   "metadata": {},
   "outputs": [
    {
     "data": {
      "text/plain": [
       "'SirIvan'"
      ]
     },
     "execution_count": 6,
     "metadata": {},
     "output_type": "execute_result"
    }
   ],
   "source": [
    "sites.region_name[testsite]"
   ]
  },
  {
   "cell_type": "code",
   "execution_count": 7,
   "metadata": {},
   "outputs": [
    {
     "name": "stdout",
     "output_type": "stream",
     "text": [
      "---9.21010246068278 minutes for loading data.---\n"
     ]
    }
   ],
   "source": [
    "start_time = time.monotonic()\n",
    "data= loaddea(x=x,y=y,reftime=datatime,resolution=res,landsat_numbers=[sensor]) #load cloud free data for the given region\n",
    "#data = data.astype('float16')\n",
    "print(\"---{} minutes for loading data.---\".format((time.monotonic()-start_time)/60))"
   ]
  },
  {
   "cell_type": "markdown",
   "metadata": {},
   "source": [
    "Geomedian and cosdist"
   ]
  },
  {
   "cell_type": "code",
   "execution_count": 8,
   "metadata": {},
   "outputs": [],
   "source": [
    "%load_ext autoreload\n",
    "%autoreload 2"
   ]
  },
  {
   "cell_type": "code",
   "execution_count": null,
   "metadata": {},
   "outputs": [],
   "source": [
    "data.sel(time=slice(reftime[0],reftime[1]))"
   ]
  },
  {
   "cell_type": "code",
   "execution_count": 9,
   "metadata": {
    "scrolled": true
   },
   "outputs": [
    {
     "name": "stdout",
     "output_type": "stream",
     "text": [
      "---141.56897118285028 minutes for geomedian and cosdist calculation.---\n"
     ]
    }
   ],
   "source": [
    "start_time = time.monotonic()\n",
    "out=geomedian(data.sel(time=slice(reftime[0],reftime[1])), ['red','green','blue','nir','swir1','swir2'], epsilon=10, max_iter=40)# calculate the geometrice medians and the distances\n",
    "print(\"---{} minutes for geomedian and cosdist calculation.---\".format((time.monotonic()-start_time)/60))\n"
   ]
  },
  {
   "cell_type": "code",
   "execution_count": null,
   "metadata": {},
   "outputs": [],
   "source": [
    "from burnmapping import cosdist"
   ]
  },
  {
   "cell_type": "code",
   "execution_count": 11,
   "metadata": {},
   "outputs": [],
   "source": [
    "#remove the data for the reference period\n",
    "data = data.sel(time=slice(severity_period[0],severity_period[1]))"
   ]
  },
  {
   "cell_type": "code",
   "execution_count": 12,
   "metadata": {},
   "outputs": [
    {
     "name": "stdout",
     "output_type": "stream",
     "text": [
      "---45.87835828056753 minutes for cos dist.---\n"
     ]
    }
   ],
   "source": [
    "start_time = time.monotonic()\n",
    "cos_dist = cosdist(data, out.geomedian.astype('float32'))\n",
    "print(\"---{} minutes for cos dist.---\".format((time.monotonic()-start_time)/60))\n"
   ]
  },
  {
   "cell_type": "code",
   "execution_count": 23,
   "metadata": {},
   "outputs": [
    {
     "ename": "NameError",
     "evalue": "name 'out' is not defined",
     "output_type": "error",
     "traceback": [
      "\u001b[0;31m---------------------------------------------------------------------------\u001b[0m",
      "\u001b[0;31mNameError\u001b[0m                                 Traceback (most recent call last)",
      "\u001b[0;32m<ipython-input-23-c73b39c3bcff>\u001b[0m in \u001b[0;36m<module>\u001b[0;34m()\u001b[0m\n\u001b[1;32m      1\u001b[0m \u001b[0mstart_time\u001b[0m \u001b[0;34m=\u001b[0m \u001b[0mtime\u001b[0m\u001b[0;34m.\u001b[0m\u001b[0mmonotonic\u001b[0m\u001b[0;34m(\u001b[0m\u001b[0;34m)\u001b[0m\u001b[0;34m\u001b[0m\u001b[0m\n\u001b[0;32m----> 2\u001b[0;31m \u001b[0mnbr_dist\u001b[0m\u001b[0;34m=\u001b[0m\u001b[0mnbrdist\u001b[0m\u001b[0;34m(\u001b[0m\u001b[0mdata\u001b[0m\u001b[0;34m,\u001b[0m \u001b[0mout\u001b[0m\u001b[0;34m.\u001b[0m\u001b[0mgeomedian\u001b[0m \u001b[0;34m)\u001b[0m\u001b[0;34m\u001b[0m\u001b[0m\n\u001b[0m\u001b[1;32m      3\u001b[0m \u001b[0mprint\u001b[0m\u001b[0;34m(\u001b[0m\u001b[0;34m\"---{} minutes for nbr dist.---\"\u001b[0m\u001b[0;34m.\u001b[0m\u001b[0mformat\u001b[0m\u001b[0;34m(\u001b[0m\u001b[0;34m(\u001b[0m\u001b[0mtime\u001b[0m\u001b[0;34m.\u001b[0m\u001b[0mmonotonic\u001b[0m\u001b[0;34m(\u001b[0m\u001b[0;34m)\u001b[0m\u001b[0;34m-\u001b[0m\u001b[0mstart_time\u001b[0m\u001b[0;34m)\u001b[0m\u001b[0;34m/\u001b[0m\u001b[0;36m60\u001b[0m\u001b[0;34m)\u001b[0m\u001b[0;34m)\u001b[0m\u001b[0;34m\u001b[0m\u001b[0m\n",
      "\u001b[0;31mNameError\u001b[0m: name 'out' is not defined"
     ]
    }
   ],
   "source": [
    "start_time = time.monotonic()\n",
    "nbr_dist=nbrdist(data, out.geomedian )\n",
    "print(\"---{} minutes for nbr dist.---\".format((time.monotonic()-start_time)/60))"
   ]
  },
  {
   "cell_type": "code",
   "execution_count": 14,
   "metadata": {},
   "outputs": [],
   "source": [
    "Dist = xr.Dataset(coords={'time':data.time,'y':data.y[:],'x':data.x[:]}, attrs={'crs':'EPSG:3577'})\n",
    "Dist['cosdist'] = (('time','y','x'),cos_dist.cosdist.data)\n",
    "Dist['NBR'] = (('time','y','x'),nbr_dist.NBR.data)\n",
    "Dist['NBRDist'] = (('time','y','x'),nbr_dist.NBRdist.data)\n",
    "Dist['ChangeDir'] = (('time','y','x'),nbr_dist.ChangeDir.data)\n",
    "Dist['NBRoutlier'] = (('y','x'),out.NBRoutlier)\n",
    "Dist['CDistoutlier'] = (('y','x'),out.CDistoutlier)\n"
   ]
  },
  {
   "cell_type": "code",
   "execution_count": 15,
   "metadata": {},
   "outputs": [],
   "source": [
    "del nbr_dist, cos_dist,out"
   ]
  },
  {
   "cell_type": "code",
   "execution_count": null,
   "metadata": {},
   "outputs": [
    {
     "name": "stdout",
     "output_type": "stream",
     "text": [
      "<xarray.Dataset>\n",
      "Dimensions:       (points: 408621, time: 33)\n",
      "Coordinates:\n",
      "  * time          (time) datetime64[ns] 2017-01-07T23:49:41 ...\n",
      "  * points        (points) uint32 0 1 2 3 4 5 6 7 8 9 10 11 12 13 14 15 16 ...\n",
      "Data variables:\n",
      "    NBR           (time, points) float32 0.116142 0.165771 0.0758258 ...\n",
      "    CosDist       (time, points) float32 0.0139122 0.0416085 0.050287 ...\n",
      "    CDistoutlier  (points) float32 0.0380486 0.0516868 0.0659465 0.00923861 ...\n"
     ]
    }
   ],
   "source": [
    "start_time = time.monotonic()\n",
    "output=severitymapping(Dist,period=(severity_period[0],severity_period[1]),method=2,growing=True)\n",
    "print(\"---{} minutes for severity.---\".format((time.monotonic()-start_time)/60))\n"
   ]
  },
  {
   "cell_type": "code",
   "execution_count": null,
   "metadata": {},
   "outputs": [],
   "source": [
    "output.Severe.plot.imshow(cmap='binary')"
   ]
  },
  {
   "cell_type": "code",
   "execution_count": null,
   "metadata": {},
   "outputs": [],
   "source": []
  },
  {
   "cell_type": "code",
   "execution_count": null,
   "metadata": {},
   "outputs": [],
   "source": []
  }
 ],
 "metadata": {
  "kernelspec": {
   "display_name": "Python 3",
   "language": "python",
   "name": "python3"
  },
  "language_info": {
   "codemirror_mode": {
    "name": "ipython",
    "version": 3
   },
   "file_extension": ".py",
   "mimetype": "text/x-python",
   "name": "python",
   "nbconvert_exporter": "python",
   "pygments_lexer": "ipython3",
   "version": "3.6.3"
  }
 },
 "nbformat": 4,
 "nbformat_minor": 2
}
