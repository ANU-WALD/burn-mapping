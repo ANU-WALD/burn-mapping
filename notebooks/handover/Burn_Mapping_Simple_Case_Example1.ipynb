{
 "cells": [
  {
   "cell_type": "markdown",
   "metadata": {},
   "source": [
    "# Automate change detection and severity mapping using Digital Earth Australia\n",
    "This script shows a simple work flow of change detection and severity mapping using DEA and ANU-developed burn_mapping tools. "
   ]
  },
  {
   "cell_type": "code",
   "execution_count": 1,
   "metadata": {},
   "outputs": [],
   "source": [
    "from loaddea import loaddea #for extracting cloudy free data from datacube\n",
    "from disttogeomedian import geomedian_and_dists#for calculation of reference data for the change detection, i.e. geometric medians and cosine distance"
   ]
  },
  {
   "cell_type": "markdown",
   "metadata": {},
   "source": [
    "## Define study area\n",
    "The following cell shows the required inputs for the change/severity mapping\n",
    "\n",
    "Three criterias are available to choose in the severity mapping, the default one is Method3. Data and time can be modified to run for the whole period or annual basis.\n",
    "\n",
    "Method 1: only use cosine distance as an indicator for change\n",
    "\n",
    "Method 2: use cosine distance together with NBR<0\n",
    "\n",
    "Method 3: use both cosine distance, NBR euclidean distance, and NBR change direction for change detection\n",
    "\n",
    "The following example shows the severity map for 2015.07 to 2016.06 using method 2 for fire-related sever NBR decrease mapping\n"
   ]
  },
  {
   "cell_type": "code",
   "execution_count": 2,
   "metadata": {},
   "outputs": [],
   "source": [
    "lon = (146.0852,146.3702) # min to max\n",
    "lat = (-41.5985,-41.7314)\n",
    "reftime = ('2013-01-01','2017-12-31') # period used for the calculation of geometric median\n",
    "res = (-100,100) # resolution in meters\n",
    "sensor = 8\n",
    "severity_period = ('2015-07-01','2016-06-30') # period of interest for change/severity mapping\n",
    "method = 2 # change detection method"
   ]
  },
  {
   "cell_type": "markdown",
   "metadata": {},
   "source": [
    "## load cloud free data for the given region\n",
    "This might take a while depends on the number of years and extent "
   ]
  },
  {
   "cell_type": "code",
   "execution_count": 3,
   "metadata": {},
   "outputs": [],
   "source": [
    "data = loaddea(x=lon,y=lat,time=reftime,resolution=res,landsat_numbers=[sensor]) "
   ]
  },
  {
   "cell_type": "code",
   "execution_count": 4,
   "metadata": {},
   "outputs": [
    {
     "data": {
      "text/plain": [
       "<xarray.Dataset>\n",
       "Dimensions:  (time: 48, x: 259, y: 171)\n",
       "Coordinates:\n",
       "  * time     (time) datetime64[ns] 2013-07-31T00:00:28 ...\n",
       "  * y        (y) float64 -4.614e+06 -4.615e+06 -4.615e+06 -4.615e+06 ...\n",
       "  * x        (x) float64 1.198e+06 1.198e+06 1.198e+06 1.198e+06 1.199e+06 ...\n",
       "Data variables:\n",
       "    blue     (time, y, x) float64 nan nan nan nan nan nan nan nan nan nan ...\n",
       "    green    (time, y, x) float64 nan nan nan nan nan nan nan nan nan nan ...\n",
       "    red      (time, y, x) float64 nan nan nan nan nan nan nan nan nan nan ...\n",
       "    nir      (time, y, x) float64 nan nan nan nan nan nan nan nan nan nan ...\n",
       "    swir1    (time, y, x) float64 nan nan nan nan nan nan nan nan nan nan ...\n",
       "    swir2    (time, y, x) float64 nan nan nan nan nan nan nan nan nan nan ...\n",
       "    pixmask  (time, y, x) int16 0 0 0 0 0 0 0 0 0 0 0 0 1 1 1 1 1 1 0 0 0 0 ...\n",
       "Attributes:\n",
       "    crs:      EPSG:3577"
      ]
     },
     "execution_count": 4,
     "metadata": {},
     "output_type": "execute_result"
    }
   ],
   "source": [
    "data"
   ]
  },
  {
   "cell_type": "markdown",
   "metadata": {},
   "source": [
    "## calculate the geometric median and cosine distance \n",
    "The following fuction returns all the outputs in one dataset. \n",
    "\n",
    "For geometric median, the output saved in a array with ['bands','y','x'], the bands from 0 to 5 refer to 'blue','green','red','nir','swir','swir2'\n",
    "\n",
    "The output will be saved in a netCDF file with the name of: GMandDist_latmin_latmax_lonmin_lonmax_reftime_Landsat_sensornumber_resolution.nc"
   ]
  },
  {
   "cell_type": "code",
   "execution_count": 5,
   "metadata": {},
   "outputs": [
    {
     "data": {
      "text/plain": [
       "<xarray.Dataset>\n",
       "Dimensions:        (bands: 6, time: 48, x: 259, y: 171)\n",
       "Coordinates:\n",
       "  * time           (time) datetime64[ns] 2013-07-31T00:00:28 ...\n",
       "  * y              (y) float64 -4.614e+06 -4.615e+06 -4.615e+06 -4.615e+06 ...\n",
       "  * x              (x) float64 1.198e+06 1.198e+06 1.198e+06 1.198e+06 ...\n",
       "  * bands          (bands) float64 0.0 1.0 2.0 3.0 4.0 5.0\n",
       "Data variables:\n",
       "    GeoMed         (bands, y, x) float64 120.8 162.2 141.7 115.6 118.9 144.1 ...\n",
       "    NBR            (time, y, x) float64 nan nan nan nan nan nan nan nan nan ...\n",
       "    CosDist        (time, y, x) float64 nan nan nan nan nan nan nan nan nan ...\n",
       "    NBRDist        (time, y, x) float64 nan nan nan nan nan nan nan nan nan ...\n",
       "    NegtiveChange  (time, y, x) float64 0.0 0.0 0.0 0.0 0.0 0.0 0.0 0.0 0.0 ...\n",
       "    NBRoutlier     (y, x) float64 0.07872 0.1025 0.08163 0.06061 0.0822 ...\n",
       "    CDistoutlier   (y, x) float64 0.006666 0.0163 0.005423 0.003064 0.005645 ...\n",
       "Attributes:\n",
       "    crs:      EPSG:3577"
      ]
     },
     "execution_count": 5,
     "metadata": {},
     "output_type": "execute_result"
    }
   ],
   "source": [
    "out = geomedian_and_dists(data)\n",
    "filename = 'GMandDist_'+str(lat[0])+'_'+str(lat[1])+'_'+str(lon[0])+'_'+str(lon[1])+'_'+reftime[0]+'_'+reftime[1]+'_Landsat'+str(sensor)+'_'+str(res[1])+'m.nc'\n",
    "out.to_netcdf(filename)\n",
    "out"
   ]
  },
  {
   "cell_type": "markdown",
   "metadata": {},
   "source": [
    "## change/severity mapping"
   ]
  },
  {
   "cell_type": "code",
   "execution_count": 6,
   "metadata": {},
   "outputs": [],
   "source": [
    "from changedetection import severity_mapping"
   ]
  },
  {
   "cell_type": "code",
   "execution_count": 7,
   "metadata": {},
   "outputs": [],
   "source": [
    "firedata,severity=severity_mapping(out,severity_period,method)"
   ]
  },
  {
   "cell_type": "markdown",
   "metadata": {},
   "source": [
    "firedata is a dataset including the easting, northing, severity, duration, startdate for each detected burned pixel\n",
    "\n",
    "severity stores the severity in 2-dimension"
   ]
  },
  {
   "cell_type": "code",
   "execution_count": 11,
   "metadata": {},
   "outputs": [],
   "source": [
    "%matplotlib inline\n",
    "import matplotlib.pyplot as plt"
   ]
  },
  {
   "cell_type": "code",
   "execution_count": 21,
   "metadata": {},
   "outputs": [
    {
     "data": {
      "text/plain": [
       "Text(0.5,1,\"('2015-07-01', '2016-06-30')\")"
      ]
     },
     "execution_count": 21,
     "metadata": {},
     "output_type": "execute_result"
    },
    {
     "data": {
      "image/png": "[encoded data removed]",
      "text/plain": [
       "<matplotlib.figure.Figure at 0x7f9929f56b70>"
      ]
     },
     "metadata": {},
     "output_type": "display_data"
    }
   ],
   "source": [
    "plt.imshow(severity.Severity,cmap='binary',vmax=20)\n",
    "plt.title(severity_period)"
   ]
  },
  {
   "cell_type": "code",
   "execution_count": null,
   "metadata": {},
   "outputs": [],
   "source": []
  },
  {
   "cell_type": "code",
   "execution_count": null,
   "metadata": {},
   "outputs": [],
   "source": []
  }
 ],
 "metadata": {
  "kernelspec": {
   "display_name": "Python 3",
   "language": "python",
   "name": "python3"
  },
  "language_info": {
   "codemirror_mode": {
    "name": "ipython",
    "version": 3
   },
   "file_extension": ".py",
   "mimetype": "text/x-python",
   "name": "python",
   "nbconvert_exporter": "python",
   "pygments_lexer": "ipython3",
   "version": "3.6.3"
  }
 },
 "nbformat": 4,
 "nbformat_minor": 2
}
