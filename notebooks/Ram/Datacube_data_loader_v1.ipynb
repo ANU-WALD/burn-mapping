{
 "cells": [
  {
   "cell_type": "code",
   "execution_count": 1,
   "metadata": {},
   "outputs": [],
   "source": [
    "import os\n",
    "import datetime\n",
    "\n",
    "import numpy as np\n",
    "import pandas as pd\n",
    "import xarray as xr\n",
    "\n",
    "import datacube\n",
    "dc = datacube.Datacube()\n"
   ]
  },
  {
   "cell_type": "code",
   "execution_count": 2,
   "metadata": {},
   "outputs": [
    {
     "data": {
      "text/html": [
       "<div>\n",
       "<style scoped>\n",
       "    .dataframe tbody tr th:only-of-type {\n",
       "        vertical-align: middle;\n",
       "    }\n",
       "\n",
       "    .dataframe tbody tr th {\n",
       "        vertical-align: top;\n",
       "    }\n",
       "\n",
       "    .dataframe thead th {\n",
       "        text-align: right;\n",
       "    }\n",
       "</style>\n",
       "<table border=\"1\" class=\"dataframe\">\n",
       "  <thead>\n",
       "    <tr style=\"text-align: right;\">\n",
       "      <th></th>\n",
       "      <th>lon_min</th>\n",
       "      <th>lon_max</th>\n",
       "      <th>lat_min</th>\n",
       "      <th>lat_max</th>\n",
       "      <th>time_min</th>\n",
       "      <th>time_max</th>\n",
       "      <th>fire_date</th>\n",
       "      <th>sensor</th>\n",
       "    </tr>\n",
       "    <tr>\n",
       "      <th>EventName</th>\n",
       "      <th></th>\n",
       "      <th></th>\n",
       "      <th></th>\n",
       "      <th></th>\n",
       "      <th></th>\n",
       "      <th></th>\n",
       "      <th></th>\n",
       "      <th></th>\n",
       "    </tr>\n",
       "  </thead>\n",
       "  <tbody>\n",
       "    <tr>\n",
       "      <th>BlackSaturday</th>\n",
       "      <td>145.0000</td>\n",
       "      <td>145.9000</td>\n",
       "      <td>-37.2000</td>\n",
       "      <td>-37.7000</td>\n",
       "      <td>2008-01</td>\n",
       "      <td>2009-12</td>\n",
       "      <td>2009-02-07</td>\n",
       "      <td>ls5</td>\n",
       "    </tr>\n",
       "    <tr>\n",
       "      <th>Tas2016_Central_Plateau</th>\n",
       "      <td>146.0852</td>\n",
       "      <td>146.3702</td>\n",
       "      <td>-41.5985</td>\n",
       "      <td>-41.7314</td>\n",
       "      <td>2013-01</td>\n",
       "      <td>2018-01</td>\n",
       "      <td>2016-02-08</td>\n",
       "      <td>ls8</td>\n",
       "    </tr>\n",
       "    <tr>\n",
       "      <th>Tas2016_Sumac_Forest</th>\n",
       "      <td>144.6893</td>\n",
       "      <td>145.1582</td>\n",
       "      <td>-41.0711</td>\n",
       "      <td>-41.3711</td>\n",
       "      <td>2013-01</td>\n",
       "      <td>2018-01</td>\n",
       "      <td>2016-02-08</td>\n",
       "      <td>ls8</td>\n",
       "    </tr>\n",
       "  </tbody>\n",
       "</table>\n",
       "</div>"
      ],
      "text/plain": [
       "                          lon_min   lon_max  lat_min  lat_max time_min  \\\n",
       "EventName                                                                \n",
       "BlackSaturday            145.0000  145.9000 -37.2000 -37.7000  2008-01   \n",
       "Tas2016_Central_Plateau  146.0852  146.3702 -41.5985 -41.7314  2013-01   \n",
       "Tas2016_Sumac_Forest     144.6893  145.1582 -41.0711 -41.3711  2013-01   \n",
       "\n",
       "                        time_max   fire_date sensor  \n",
       "EventName                                            \n",
       "BlackSaturday            2009-12  2009-02-07    ls5  \n",
       "Tas2016_Central_Plateau  2018-01  2016-02-08    ls8  \n",
       "Tas2016_Sumac_Forest     2018-01  2016-02-08    ls8  "
      ]
     },
     "execution_count": 2,
     "metadata": {},
     "output_type": "execute_result"
    }
   ],
   "source": [
    "fire_events = pd.read_csv('fire_events.csv', index_col=0)\n",
    "fire_events"
   ]
  },
  {
   "cell_type": "code",
   "execution_count": 3,
   "metadata": {},
   "outputs": [],
   "source": [
    "   \n",
    "def _get_Pixel_Quality():\n",
    "    \"\"\"This calls the dc.load function on the pixel quality product.\n",
    "    This uses the sensor specified in the 'fire_events.csv' file.\"\"\"\n",
    "\n",
    "    start_time = datetime.datetime.now()\n",
    "    pq = dc.load( product=  sensor + '_pq_albers', \n",
    "           x=lon_extent, \n",
    "           y=lat_extent,\n",
    "           time = time_bounds,\n",
    "           resolution = (-100,100)\n",
    "      #      dask_chunks = {'time': 5}\n",
    "                     )\n",
    "    end_time = datetime.datetime.now()\n",
    "\n",
    "    # This next chunk creates a cloud_mask using the datacube masking methods\n",
    "    from datacube.storage import masking\n",
    "    cloud_mask = masking.make_mask(pq, \n",
    "        cloud_acca='no_cloud', cloud_fmask='no_cloud',\n",
    "        cloud_shadow_acca = 'no_cloud_shadow', cloud_shadow_fmask = 'no_cloud_shadow',\n",
    "        # contiguous=True ,land_sea = 'land'\n",
    "        ).pixelquality\n",
    "    \n",
    "    print (\"cloud mask loading took: \", (end_time - start_time))\n",
    "    print (\"cloud mask: \", (cloud_mask).nbytes / 10**9 , \"GB\")\n",
    "      \n",
    "    \n",
    "    return cloud_mask\n",
    "\n",
    "\n",
    "\n",
    "def get_Reflectance():\n",
    "    \"\"\"This calls the dc.load function on the NBAR reflectance product.\n",
    "    This uses the sensor specified in the 'fire_events.csv' file.\"\"\"\n",
    "\n",
    "    start_time = datetime.datetime.now()\n",
    "\n",
    "    reflectance = dc.load( product=  sensor + '_nbar_albers', \n",
    "               x=lon_extent, \n",
    "               y=lat_extent,\n",
    "               time = time_bounds,\n",
    "               resolution = (-100,100)\n",
    "      #          dask_chunks = {'time': 5}\n",
    "                     )\n",
    "\n",
    "    reflectance = reflectance.where((reflectance != -999))\n",
    "\n",
    "    end_time = datetime.datetime.now()\n",
    "    print (\"reflectance loading took: \", (end_time - start_time))\n",
    "    print (\"reflectance: \", (reflectance).nbytes / 10**9 , \"GB\")\n",
    "    print ('Note: access original NBAR reflectance xarray dataset by calling \"(event_name).reflanctance\"')\n",
    "    print ('Note: access cloud-masked NBAR reflectance xarray dataset by calling \"(event_name).reflanctance_cloudmasked\"')\n",
    "    \n",
    "    reflectance.attrs['note'] = ('This is the original data from Datacube. No masking has been performed.')\n",
    "    \n",
    "    return (reflectance)\n",
    "\n",
    "\n"
   ]
  },
  {
   "cell_type": "code",
   "execution_count": 4,
   "metadata": {},
   "outputs": [],
   "source": [
    "event_name = 'Tas2016_Sumac_Forest'     #ENTER HERE\n",
    "name = (fire_events[fire_events.index==event_name].index.values[0] ) \n",
    "lat_extent = ( fire_events[fire_events.index==event_name].lat_min.values[0] ,\n",
    "                   fire_events[fire_events.index==event_name].lat_max.values[0] )\n",
    "lon_extent = ( fire_events[fire_events.index==event_name].lon_min.values[0] ,\n",
    "                   fire_events[fire_events.index==event_name].lon_max.values[0] )\n",
    "time_bounds = (np.datetime64('2000-01') , np.datetime64('2018-01'))\n",
    "sensor = 'ls8'\n",
    "#sensor = fire_events[fire_events.index==event_name].sensor.values[0]"
   ]
  },
  {
   "cell_type": "code",
   "execution_count": 5,
   "metadata": {},
   "outputs": [
    {
     "name": "stdout",
     "output_type": "stream",
     "text": [
      "cloud mask loading took:  0:05:21.734656\n",
      "cloud mask:  0.048288576 GB\n"
     ]
    },
    {
     "ename": "AttributeError",
     "evalue": "'DataArray' object has no attribute 'data_vars'",
     "output_type": "error",
     "traceback": [
      "\u001b[0;31m---------------------------------------------------------------------------\u001b[0m",
      "\u001b[0;31mAttributeError\u001b[0m                            Traceback (most recent call last)",
      "\u001b[0;32m<ipython-input-5-52470735d350>\u001b[0m in \u001b[0;36m<module>\u001b[0;34m()\u001b[0m\n\u001b[1;32m      1\u001b[0m \u001b[0mA\u001b[0m \u001b[0;34m=\u001b[0m \u001b[0m_get_Pixel_Quality\u001b[0m\u001b[0;34m(\u001b[0m\u001b[0;34m)\u001b[0m\u001b[0;34m\u001b[0m\u001b[0m\n\u001b[0;32m----> 2\u001b[0;31m \u001b[0mdatacube\u001b[0m\u001b[0;34m.\u001b[0m\u001b[0mstorage\u001b[0m\u001b[0;34m.\u001b[0m\u001b[0mstorage\u001b[0m\u001b[0;34m.\u001b[0m\u001b[0mwrite_dataset_to_netcdf\u001b[0m\u001b[0;34m(\u001b[0m\u001b[0mA\u001b[0m\u001b[0;34m,\u001b[0m \u001b[0;34m(\u001b[0m\u001b[0;34m'%s_cloudmask - %s.nc'\u001b[0m\u001b[0;34m)\u001b[0m \u001b[0;34m%\u001b[0m \u001b[0;34m(\u001b[0m\u001b[0mname\u001b[0m\u001b[0;34m,\u001b[0m \u001b[0msensor\u001b[0m\u001b[0;34m)\u001b[0m\u001b[0;34m)\u001b[0m\u001b[0;34m\u001b[0m\u001b[0m\n\u001b[0m",
      "\u001b[0;32m/g/data/v10/public/modules/agdc-py3/1.5.4/lib/python3.6/site-packages/datacube/storage/storage.py\u001b[0m in \u001b[0;36mwrite_dataset_to_netcdf\u001b[0;34m(dataset, filename, global_attributes, variable_params, netcdfparams)\u001b[0m\n\u001b[1;32m    651\u001b[0m     \u001b[0mfilename\u001b[0m \u001b[0;34m=\u001b[0m \u001b[0mPath\u001b[0m\u001b[0;34m(\u001b[0m\u001b[0mfilename\u001b[0m\u001b[0;34m)\u001b[0m\u001b[0;34m\u001b[0m\u001b[0m\n\u001b[1;32m    652\u001b[0m \u001b[0;34m\u001b[0m\u001b[0m\n\u001b[0;32m--> 653\u001b[0;31m     \u001b[0;32mif\u001b[0m \u001b[0;32mnot\u001b[0m \u001b[0mdataset\u001b[0m\u001b[0;34m.\u001b[0m\u001b[0mdata_vars\u001b[0m\u001b[0;34m.\u001b[0m\u001b[0mkeys\u001b[0m\u001b[0;34m(\u001b[0m\u001b[0;34m)\u001b[0m\u001b[0;34m:\u001b[0m\u001b[0;34m\u001b[0m\u001b[0m\n\u001b[0m\u001b[1;32m    654\u001b[0m         \u001b[0;32mraise\u001b[0m \u001b[0mDatacubeException\u001b[0m\u001b[0;34m(\u001b[0m\u001b[0;34m'Cannot save empty dataset to disk.'\u001b[0m\u001b[0;34m)\u001b[0m\u001b[0;34m\u001b[0m\u001b[0m\n\u001b[1;32m    655\u001b[0m \u001b[0;34m\u001b[0m\u001b[0m\n",
      "\u001b[0;32m/g/data/v10/public/modules/agdc-py3-env/20171214/envs/agdc/lib/python3.6/site-packages/xarray/core/common.py\u001b[0m in \u001b[0;36m__getattr__\u001b[0;34m(self, name)\u001b[0m\n\u001b[1;32m    174\u001b[0m                     \u001b[0;32mreturn\u001b[0m \u001b[0msource\u001b[0m\u001b[0;34m[\u001b[0m\u001b[0mname\u001b[0m\u001b[0;34m]\u001b[0m\u001b[0;34m\u001b[0m\u001b[0m\n\u001b[1;32m    175\u001b[0m         raise AttributeError(\"%r object has no attribute %r\" %\n\u001b[0;32m--> 176\u001b[0;31m                              (type(self).__name__, name))\n\u001b[0m\u001b[1;32m    177\u001b[0m \u001b[0;34m\u001b[0m\u001b[0m\n\u001b[1;32m    178\u001b[0m     \u001b[0;32mdef\u001b[0m \u001b[0m__setattr__\u001b[0m\u001b[0;34m(\u001b[0m\u001b[0mself\u001b[0m\u001b[0;34m,\u001b[0m \u001b[0mname\u001b[0m\u001b[0;34m,\u001b[0m \u001b[0mvalue\u001b[0m\u001b[0;34m)\u001b[0m\u001b[0;34m:\u001b[0m\u001b[0;34m\u001b[0m\u001b[0m\n",
      "\u001b[0;31mAttributeError\u001b[0m: 'DataArray' object has no attribute 'data_vars'"
     ]
    }
   ],
   "source": [
    "A = _get_Pixel_Quality()\n",
    "datacube.storage.storage.write_dataset_to_netcdf(A, ('%s_cloudmask - %s.nc') % (name, sensor))"
   ]
  },
  {
   "cell_type": "code",
   "execution_count": null,
   "metadata": {},
   "outputs": [],
   "source": [
    "del(A)\n",
    "\n",
    "sensor = 'ls5\n",
    "\n",
    "A = _get_Pixel_Quality()\n",
    "datacube.storage.storage.write_dataset_to_netcdf(A, ('%s_cloudmask - %s.nc') % (name, sensor))"
   ]
  },
  {
   "cell_type": "code",
   "execution_count": null,
   "metadata": {},
   "outputs": [],
   "source": [
    "del(A)\n",
    "time_bounds = (np.datetime64('2010-01') , np.datetime64('2014-01'))\n",
    "sensor = 'ls7'\n",
    "\n",
    "A = _get_Pixel_Quality()\n",
    "datacube.storage.storage.write_dataset_to_netcdf(A, ('%s_cloudmask - %s.nc') % (name, sensor))"
   ]
  },
  {
   "cell_type": "code",
   "execution_count": null,
   "metadata": {},
   "outputs": [],
   "source": [
    "del(A)"
   ]
  },
  {
   "cell_type": "code",
   "execution_count": 11,
   "metadata": {},
   "outputs": [
    {
     "data": {
      "text/plain": [
       "(-41.071100000000001, -41.371099999999998)"
      ]
     },
     "execution_count": 11,
     "metadata": {},
     "output_type": "execute_result"
    }
   ],
   "source": [
    "lat_extent"
   ]
  },
  {
   "cell_type": "code",
   "execution_count": null,
   "metadata": {},
   "outputs": [],
   "source": []
  }
 ],
 "metadata": {
  "kernelspec": {
   "display_name": "Python 3",
   "language": "python",
   "name": "python3"
  },
  "language_info": {
   "codemirror_mode": {
    "name": "ipython",
    "version": 3
   },
   "file_extension": ".py",
   "mimetype": "text/x-python",
   "name": "python",
   "nbconvert_exporter": "python",
   "pygments_lexer": "ipython3",
   "version": "3.6.3"
  }
 },
 "nbformat": 4,
 "nbformat_minor": 2
}
