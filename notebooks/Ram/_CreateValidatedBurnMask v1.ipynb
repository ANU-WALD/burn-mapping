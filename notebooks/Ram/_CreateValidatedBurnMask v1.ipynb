{
 "cells": [
  {
   "cell_type": "code",
   "execution_count": 1,
   "metadata": {},
   "outputs": [
    {
     "data": {
      "text/plain": [
       "\"\\nPurpose: This script takes the Tas_Fire_History shapefile, converts to Xarray format, and aligns coordinates\\nto the desired Xarray DataArray for comparison.\\n\\nRequired inputs:\\n- filepath to the 'fire_history_all_fires_20170907.shp' shapefile\\n- reference Xarray DataArray to which the coordinates are aligned.\\n\\nOutputs:\\n- Xarray DataArray mask showing True/False for burned/unburned at each timestep according the Tas_Fire_History shapefile \\n\\n\""
      ]
     },
     "execution_count": 1,
     "metadata": {},
     "output_type": "execute_result"
    }
   ],
   "source": [
    "\"\"\"\n",
    "Purpose: This script takes the Tas_Fire_History shapefile, converts to Xarray format, and aligns coordinates\n",
    "to the desired Xarray DataArray for comparison.\n",
    "\n",
    "Required inputs:\n",
    "- filepath to the 'fire_history_all_fires_20170907.shp' shapefile\n",
    "- reference Xarray DataArray to which the coordinates are aligned.\n",
    "\n",
    "Outputs:\n",
    "- Xarray DataArray mask showing True/False for burned/unburned at each timestep according the Tas_Fire_History shapefile \n",
    "\n",
    "\n",
    "\n",
    "USAGE:\n",
    "- run function \"_CreateValidatedBurnMask()\"\n",
    "    - if arguments 'shapefile_filepath' and 'reference_DataArray' are unspecified, default arguments \n",
    "    corresponding to the 2016 Tas Sumac Forest fire will automatically be used \n",
    "\"\"\""
   ]
  },
  {
   "cell_type": "code",
   "execution_count": 2,
   "metadata": {},
   "outputs": [],
   "source": [
    "import numpy as np\n",
    "import pandas as pd\n",
    "import geopandas\n",
    "import xarray as xr\n",
    "\n",
    "from rasterio import features\n",
    "from affine import Affine\n",
    "\n",
    "import matplotlib.pyplot as plt\n",
    "from pylab import rcParams\n",
    "\n",
    "%matplotlib inline\n",
    "pd.set_option('display.max_colwidth', 200)\n",
    "pd.set_option('display.max_rows', None)\n",
    "rcParams['figure.figsize'] = (20,8)\n"
   ]
  },
  {
   "cell_type": "code",
   "execution_count": 3,
   "metadata": {},
   "outputs": [],
   "source": [
    "def transform_from_latlon(lat, lon):\n",
    "    lat = np.asarray(lat)\n",
    "    lon = np.asarray(lon)\n",
    "    trans = Affine.translation(lon[0], lat[0])\n",
    "    scale = Affine.scale(lon[1] - lon[0], lat[1] - lat[0])\n",
    "    return trans * scale\n",
    "\n",
    "def rasterize(shapes, coords, fill=np.nan, **kwargs):\n",
    "    \"\"\"Rasterize a list of (geometry, fill_value) tuples onto the given\n",
    "    xray coordinates. This only works for 1d latitude and longitude\n",
    "    arrays.\n",
    "    \"\"\"\n",
    "    transform = transform_from_latlon(coords['y'], coords['x'])\n",
    "    out_shape = (len(coords['y']), len(coords['x']))\n",
    "    raster = features.rasterize(shapes, out_shape=out_shape, transform = transform,\n",
    "                                fill=fill, all_touched = True,\n",
    "                                dtype=float, **kwargs)\n",
    "    \n",
    "    return xr.DataArray(raster, coords=coords, dims=('y', 'x'))"
   ]
  },
  {
   "cell_type": "code",
   "execution_count": 4,
   "metadata": {},
   "outputs": [],
   "source": [
    "default_shapefile_filepath = \"/home/603/rp1375/Desktop/Link to Ram/Burn Mapping/03 Validation Data/Tas Fire History/fire_history_all_fires_20170907.shp\"\n",
    "default_reference_DataArray = xr.open_dataset('/g/data/xc0/project/Burn_Mapping/01_LS_Reflectance_and_Indices/SS/Tas2016_Sumac_Forest_reflectance.nc')\n",
    "\n",
    "def _CreateValidatedBurnMask( shapefile_filepath = default_shapefile_filepath, \n",
    "                             reference_DataArray = default_reference_DataArray ):\n",
    "    \"\"\"### FUNCTION NOTES ####\n",
    "    \n",
    "    'shapefile_filepath' must be a file path\n",
    "    'reference_DataArray' must be a xr.DataSet or xr.DataArray. i.e. it must already be opened with xr.open_dataset etc.\n",
    "    \n",
    "    ##########################\n",
    "    \"\"\"\n",
    "\n",
    "    ############## 1) Load in the Shapefile and crop to the correct extent  ##########\n",
    "    #define location of Shapefile\n",
    "    df = geopandas.read_file(shapefile_filepath)\n",
    "\n",
    "    #define projection of shapefile \n",
    "    df.crs = {'init' :'epsg:28355'}\n",
    "    #Convert to same projection as the input netcdf DataArray\n",
    "    df = df.to_crs({'init': 'epsg:3577'})\n",
    "\n",
    "    #format shapefile attributes to datetime64 format\n",
    "    df.IGN_DATE = df.IGN_DATE.astype('datetime64[ns]')\n",
    "\n",
    "    x_extent = [reference_DataArray.x.min() , reference_DataArray.x.max()]\n",
    "    y_extent = [reference_DataArray.y.min() , reference_DataArray.y.max()]\n",
    "    df = df.cx[ x_extent[0]:x_extent[1] , y_extent[0]:y_extent[1]]\n",
    "\n",
    "\n",
    "    ####OPTIONAL EXTRA CONSTRAINTS\n",
    "    #crop only fires with burned area greater than 8x8 landsat pixels (i.e. 500x500 m2)\n",
    "    df = df[df.SHAPE_AREA > 25*10000]\n",
    "    #crop by area and timestamp\n",
    "    df = df[df.IGN_DATE > '2003-01-01']\n",
    "    \n",
    "    \n",
    "    \n",
    "    ############## 2) Convert to Xarray DataArray using the coordinates from 'reference_DataArray' ##########\n",
    "    try:\n",
    "        del(output_array)\n",
    "    except NameError:\n",
    "        pass\n",
    "\n",
    "    coords = reference_DataArray.drop('time').coords\n",
    "\n",
    "    for date in np.unique(df.IGN_DATE):\n",
    "        shapes = [(shape,1) for  n, shape in enumerate(df[df.IGN_DATE == date].geometry)]\n",
    "\n",
    "        try:\n",
    "            new_da = rasterize(shapes , coords)\n",
    "            new_da = new_da.assign_coords(time = date)\n",
    "            new_da = new_da.expand_dims('time')\n",
    "\n",
    "            output_array = xr.concat((output_array,new_da), dim='time')\n",
    "\n",
    "        except NameError:\n",
    "            output_array = rasterize(shapes , coords)\n",
    "            output_array = output_array.assign_coords(time = date)\n",
    "            output_array = output_array.expand_dims('time')\n",
    "\n",
    "    output_array = output_array.dropna(dim='time',how='all')\n",
    "    \n",
    "    return(output_array)\n"
   ]
  },
  {
   "cell_type": "code",
   "execution_count": null,
   "metadata": {},
   "outputs": [],
   "source": []
  }
 ],
 "metadata": {
  "kernelspec": {
   "display_name": "Python 3",
   "language": "python",
   "name": "python3"
  },
  "language_info": {
   "codemirror_mode": {
    "name": "ipython",
    "version": 3
   },
   "file_extension": ".py",
   "mimetype": "text/x-python",
   "name": "python",
   "nbconvert_exporter": "python",
   "pygments_lexer": "ipython3",
   "version": "3.6.3"
  }
 },
 "nbformat": 4,
 "nbformat_minor": 2
}
