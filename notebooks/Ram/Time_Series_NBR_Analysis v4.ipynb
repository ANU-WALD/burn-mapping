{
 "cells": [
  {
   "cell_type": "code",
   "execution_count": 1,
   "metadata": {},
   "outputs": [],
   "source": [
    "import numpy as np\n",
    "import pandas as pd\n",
    "import xarray as xr\n",
    "import matplotlib.pyplot as plt\n",
    "import matplotlib.ticker as plticker\n",
    "from pylab import rcParams\n",
    "\n",
    "%matplotlib inline\n",
    "pd.set_option('display.max_colwidth', 200)\n",
    "pd.set_option('display.max_rows', None)\n",
    "rcParams['figure.figsize'] = (20,8)\n"
   ]
  },
  {
   "cell_type": "code",
   "execution_count": 4,
   "metadata": {},
   "outputs": [
    {
     "name": "stderr",
     "output_type": "stream",
     "text": [
      "/g/data/v10/public/modules/agdc-py3-env/20171214/envs/agdc/lib/python3.6/site-packages/xarray/core/common.py:594: FutureWarning: pd.TimeGrouper is deprecated and will be removed; Please use pd.Grouper(freq=...)\n",
      "  label=label, base=base)\n"
     ]
    }
   ],
   "source": [
    "\"\"\" At this point we load in the cloud-masked data for a certain geographical extent, and resample \n",
    "to 2M frequency (in an attempt to correct for NANs due to patchy clouds and same-day scene overlaps)\n",
    "\"\"\"\n",
    "\n",
    "#%cd /g/data/xc0/project/Burn_Mapping/01_LS_Reflectance_and_Indices/SS\n",
    "data = xr.open_dataset('BlackSaturday_NBAR - ls5.nc')\n",
    "data = data.resample(time=\"M\").mean().dropna('time',how='all')"
   ]
  },
  {
   "cell_type": "raw",
   "metadata": {},
   "source": [
    "NEW APPROACH\n",
    "- CREATE A 'FORWARD FILL' FUNCTION TO ROLL THROUGH NAN VALUES. \n",
    "THIS WILL ENSURE THAT THE .DIFF('TIME') METHOD WILL RETRIEVE THE LAST NON-NAN VALUE"
   ]
  },
  {
   "cell_type": "code",
   "execution_count": 5,
   "metadata": {},
   "outputs": [],
   "source": [
    "def _forward_fill(Input_DataArray):\n",
    "    temp_array = Input_DataArray\n",
    "    \n",
    "    for i in np.arange(0,len(temp_array.time)):\n",
    "        temp_array = temp_array.fillna(temp_array.shift(time=1))\n",
    "    \n",
    "    return(temp_array)\n",
    "\n",
    "\n",
    "def _identify_burned_area(Input_DataArray,lag0_threshold, lag1_threshold):\n",
    "    \n",
    "    A = _forward_fill(Input_DataArray)\n",
    "    B1 = A - A.shift(time=1)\n",
    "    B2 = A.shift(time=-1)-A.shift(time=1)\n",
    "    \n",
    "    C = B1.where(B1 < lag0_threshold)\n",
    "    D = (B1 < lag0_threshold) & (B2 < lag1_threshold)\n",
    "    \n",
    "    return D\n"
   ]
  },
  {
   "cell_type": "code",
   "execution_count": 6,
   "metadata": {
    "scrolled": true
   },
   "outputs": [
    {
     "name": "stdout",
     "output_type": "stream",
     "text": [
      "/g/data1a/xc0/user/Ram/Burn Mapping/02 Git/burn-mapping/notebooks/Ram\n"
     ]
    },
    {
     "ename": "AttributeError",
     "evalue": "'Dataset' object has no attribute 'NBR'",
     "output_type": "error",
     "traceback": [
      "\u001b[0;31m---------------------------------------------------------------------------\u001b[0m",
      "\u001b[0;31mAttributeError\u001b[0m                            Traceback (most recent call last)",
      "\u001b[0;32m<ipython-input-6-f80b0b471c46>\u001b[0m in \u001b[0;36m<module>\u001b[0;34m()\u001b[0m\n\u001b[1;32m     12\u001b[0m     \u001b[0mthreshold\u001b[0m\u001b[0;34m=\u001b[0m\u001b[0mi\u001b[0m\u001b[0;34m\u001b[0m\u001b[0m\n\u001b[1;32m     13\u001b[0m \u001b[0;34m\u001b[0m\u001b[0m\n\u001b[0;32m---> 14\u001b[0;31m     \u001b[0mdata\u001b[0m\u001b[0;34m[\u001b[0m\u001b[0;34m'Classified_Burned'\u001b[0m\u001b[0;34m]\u001b[0m \u001b[0;34m=\u001b[0m \u001b[0m_identify_burned_area\u001b[0m\u001b[0;34m(\u001b[0m\u001b[0mdata\u001b[0m\u001b[0;34m.\u001b[0m\u001b[0mNBR\u001b[0m\u001b[0;34m,\u001b[0m \u001b[0mthreshold\u001b[0m \u001b[0;34m,\u001b[0m \u001b[0mthreshold\u001b[0m\u001b[0;34m/\u001b[0m\u001b[0;36m2\u001b[0m \u001b[0;34m)\u001b[0m\u001b[0;34m\u001b[0m\u001b[0m\n\u001b[0m\u001b[1;32m     15\u001b[0m \u001b[0;34m\u001b[0m\u001b[0m\n\u001b[1;32m     16\u001b[0m     \u001b[0mClassified_Burned\u001b[0m \u001b[0;34m=\u001b[0m \u001b[0mdata\u001b[0m\u001b[0;34m.\u001b[0m\u001b[0mClassified_Burned\u001b[0m\u001b[0;34m.\u001b[0m\u001b[0mresample\u001b[0m\u001b[0;34m(\u001b[0m\u001b[0mtime\u001b[0m\u001b[0;34m=\u001b[0m\u001b[0;34m'AS-JUL'\u001b[0m\u001b[0;34m)\u001b[0m\u001b[0;34m.\u001b[0m\u001b[0mmax\u001b[0m\u001b[0;34m(\u001b[0m\u001b[0;34m'time'\u001b[0m\u001b[0;34m)\u001b[0m\u001b[0;34m.\u001b[0m\u001b[0mdropna\u001b[0m\u001b[0;34m(\u001b[0m\u001b[0;34m'time'\u001b[0m\u001b[0;34m,\u001b[0m\u001b[0mhow\u001b[0m\u001b[0;34m=\u001b[0m\u001b[0;34m'all'\u001b[0m\u001b[0;34m)\u001b[0m\u001b[0;34m\u001b[0m\u001b[0m\n",
      "\u001b[0;32m/g/data/v10/public/modules/agdc-py3-env/20171214/envs/agdc/lib/python3.6/site-packages/xarray/core/common.py\u001b[0m in \u001b[0;36m__getattr__\u001b[0;34m(self, name)\u001b[0m\n\u001b[1;32m    174\u001b[0m                     \u001b[0;32mreturn\u001b[0m \u001b[0msource\u001b[0m\u001b[0;34m[\u001b[0m\u001b[0mname\u001b[0m\u001b[0;34m]\u001b[0m\u001b[0;34m\u001b[0m\u001b[0m\n\u001b[1;32m    175\u001b[0m         raise AttributeError(\"%r object has no attribute %r\" %\n\u001b[0;32m--> 176\u001b[0;31m                              (type(self).__name__, name))\n\u001b[0m\u001b[1;32m    177\u001b[0m \u001b[0;34m\u001b[0m\u001b[0m\n\u001b[1;32m    178\u001b[0m     \u001b[0;32mdef\u001b[0m \u001b[0m__setattr__\u001b[0m\u001b[0;34m(\u001b[0m\u001b[0mself\u001b[0m\u001b[0;34m,\u001b[0m \u001b[0mname\u001b[0m\u001b[0;34m,\u001b[0m \u001b[0mvalue\u001b[0m\u001b[0;34m)\u001b[0m\u001b[0;34m:\u001b[0m\u001b[0;34m\u001b[0m\u001b[0m\n",
      "\u001b[0;31mAttributeError\u001b[0m: 'Dataset' object has no attribute 'NBR'"
     ]
    }
   ],
   "source": [
    "### THIS CELL FOR GOAL-SEEKING THE OPTIMAL THRESHOLD VALUE (i.e. the one that maximises the classification accuracy)\n",
    "\n",
    "%cd /g/data/xc0/user/Ram/Burn Mapping/02 Git/burn-mapping/notebooks/Ram\n",
    "from CreateValidatedBurnMask import _CreateValidatedBurnMask\n",
    "\n",
    "accuracy_list = [0,0]\n",
    "\n",
    "threshold = -0.10\n",
    "\n",
    "for i in np.arange(-1,0.2,0.05):\n",
    "    \n",
    "    threshold=i\n",
    "    \n",
    "    data['Classified_Burned'] = _identify_burned_area(data.NBR, threshold , threshold/2 )\n",
    "\n",
    "    Classified_Burned = data.Classified_Burned.resample(time='AS-JUL').max('time').dropna('time',how='all')\n",
    "    Classified_Burned.name = 'Classified_Burned'\n",
    "\n",
    "    Validated_Burned = _CreateValidatedBurnMask(reference_DataArray=data)\n",
    "    Validated_Burned = Validated_Burned.resample(time='AS-JUL').max('time').dropna('time',how='all')\n",
    "    Validated_Burned.values[np.isnan(Validated_Burned.values)] = bool(0)\n",
    "    Validated_Burned = Validated_Burned.astype('bool')\n",
    "    Validated_Burned.name = 'Validated_Burned'\n",
    "\n",
    "    Comparison_Dataset = xr.merge((Validated_Burned,Classified_Burned) , join='inner')\n",
    "\n",
    "    classification_accuracy_df = pd.DataFrame([[0,0],[0,0]])\n",
    "    classification_accuracy_df.columns = ('Actual_Burned','Actual_Unburned')\n",
    "    classification_accuracy_df.index = ('Pred_Burned','Pred_Unburned')\n",
    "\n",
    "    classification_accuracy_df.iloc[0,0] = np.sum((Comparison_Dataset.Validated_Burned == True) & (Comparison_Dataset.Classified_Burned == True))\n",
    "    classification_accuracy_df.iloc[0,1] = np.sum((Comparison_Dataset.Validated_Burned == True) & (Comparison_Dataset.Classified_Burned == False))\n",
    "    classification_accuracy_df.iloc[1,0] = np.sum((Comparison_Dataset.Validated_Burned == False) & (Comparison_Dataset.Classified_Burned == True))\n",
    "    classification_accuracy_df.iloc[1,1] = np.sum((Comparison_Dataset.Validated_Burned == False) & (Comparison_Dataset.Classified_Burned == False))\n",
    "\n",
    "    #print(classification_accuracy_df)\n",
    "    \n",
    "    percentage_accuracy = 100*( classification_accuracy_df.iloc[0,0] + classification_accuracy_df.iloc[1,1] ) / classification_accuracy_df.sum().sum()\n",
    "\n",
    "\n",
    "    #print ('for threshold = ', i, \" - \",'classification accuracy = ' , percentage_accuracy, \"%\")\n",
    "    \n",
    "    accuracy_list = np.concatenate((accuracy_list,[i,percentage_accuracy]), axis=0)\n",
    "\n",
    "accuracy_list = pd.DataFrame(np.array(accuracy_list).reshape(25,2))\n",
    "print(accuracy_list)"
   ]
  },
  {
   "cell_type": "code",
   "execution_count": null,
   "metadata": {},
   "outputs": [],
   "source": []
  },
  {
   "cell_type": "code",
   "execution_count": null,
   "metadata": {},
   "outputs": [],
   "source": [
    "threshold = -0.35\n",
    "\n",
    "data['Classified_Burned'] = _identify_burned_area(data.NBR, threshold , threshold/2 )\n",
    "\n",
    "Classified_Burned = data.Classified_Burned.resample(time='AS-JUL').max('time').dropna('time',how='all')\n",
    "Classified_Burned.name = 'Classified_Burned'\n",
    "\n",
    "Validated_Burned = _CreateValidatedBurnMask(reference_DataArray=data)\n",
    "Validated_Burned = Validated_Burned.resample(time='AS-JUL').max('time').dropna('time',how='all')\n",
    "Validated_Burned.values[np.isnan(Validated_Burned.values)] = bool(0)\n",
    "Validated_Burned = Validated_Burned.astype('bool')\n",
    "Validated_Burned.name = 'Validated_Burned'\n",
    "\n",
    "Comparison_Dataset = xr.merge((Validated_Burned,Classified_Burned) , join='inner')\n",
    "\n",
    "classification_accuracy_df = pd.DataFrame([[0,0],[0,0]])\n",
    "classification_accuracy_df.columns = ('Actual_Burned','Actual_Unburned')\n",
    "classification_accuracy_df.index = ('Pred_Burned','Pred_Unburned')\n",
    "\n",
    "classification_accuracy_df.iloc[0,0] = np.sum((Comparison_Dataset.Validated_Burned == True) & (Comparison_Dataset.Classified_Burned == True))\n",
    "classification_accuracy_df.iloc[0,1] = np.sum((Comparison_Dataset.Validated_Burned == True) & (Comparison_Dataset.Classified_Burned == False))\n",
    "classification_accuracy_df.iloc[1,0] = np.sum((Comparison_Dataset.Validated_Burned == False) & (Comparison_Dataset.Classified_Burned == True))\n",
    "classification_accuracy_df.iloc[1,1] = np.sum((Comparison_Dataset.Validated_Burned == False) & (Comparison_Dataset.Classified_Burned == False))\n",
    "\n",
    "print(classification_accuracy_df)\n",
    "\n",
    "percentage_accuracy = 100*( classification_accuracy_df.iloc[0,0] + classification_accuracy_df.iloc[1,1] ) / classification_accuracy_df.sum().sum()\n",
    "\n",
    "print ('for threshold = ', threshold, \" - \",'classification accuracy = ' , percentage_accuracy, \"%\")\n"
   ]
  },
  {
   "cell_type": "code",
   "execution_count": null,
   "metadata": {},
   "outputs": [],
   "source": []
  },
  {
   "cell_type": "code",
   "execution_count": null,
   "metadata": {},
   "outputs": [],
   "source": []
  },
  {
   "cell_type": "code",
   "execution_count": null,
   "metadata": {},
   "outputs": [],
   "source": [
    "Comparison_Dataset.Classified_Burned.plot.imshow(col='time',col_wrap=5)\n",
    "\n",
    "Comparison_Dataset.Validated_Burned.plot.imshow(col='time',col_wrap=5)"
   ]
  },
  {
   "cell_type": "code",
   "execution_count": null,
   "metadata": {},
   "outputs": [],
   "source": []
  }
 ],
 "metadata": {
  "kernelspec": {
   "display_name": "Python 3",
   "language": "python",
   "name": "python3"
  },
  "language_info": {
   "codemirror_mode": {
    "name": "ipython",
    "version": 3
   },
   "file_extension": ".py",
   "mimetype": "text/x-python",
   "name": "python",
   "nbconvert_exporter": "python",
   "pygments_lexer": "ipython3",
   "version": "3.6.3"
  }
 },
 "nbformat": 4,
 "nbformat_minor": 2
}
