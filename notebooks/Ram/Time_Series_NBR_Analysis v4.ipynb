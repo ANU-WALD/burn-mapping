{
 "cells": [
  {
   "cell_type": "code",
   "execution_count": 4,
   "metadata": {},
   "outputs": [],
   "source": [
    "import numpy as np\n",
    "import pandas as pd\n",
    "import xarray as xr\n",
    "import matplotlib.pyplot as plt\n",
    "import matplotlib.ticker as plticker\n",
    "from pylab import rcParams\n",
    "\n",
    "%matplotlib inline\n",
    "pd.set_option('display.max_colwidth', 200)\n",
    "pd.set_option('display.max_rows', None)\n",
    "rcParams['figure.figsize'] = (20,8)\n"
   ]
  },
  {
   "cell_type": "code",
   "execution_count": 5,
   "metadata": {},
   "outputs": [
    {
     "name": "stdout",
     "output_type": "stream",
     "text": [
      "/g/data1a/xc0/project/Burn_Mapping/01_LS_Reflectance_and_Indices/SS\n"
     ]
    },
    {
     "name": "stderr",
     "output_type": "stream",
     "text": [
      "/g/data/v10/public/modules/agdc-py3-env/20171214/envs/agdc/lib/python3.6/site-packages/xarray/core/common.py:594: FutureWarning: pd.TimeGrouper is deprecated and will be removed; Please use pd.Grouper(freq=...)\n",
      "  label=label, base=base)\n"
     ]
    }
   ],
   "source": [
    "\"\"\" At this point we load in the cloud-masked data for a certain geographical extent, and resample \n",
    "to 2M frequency (in an attempt to correct for NANs due to patchy clouds and same-day scene overlaps)\n",
    "\"\"\"\n",
    "\n",
    "%cd /g/data/xc0/project/Burn_Mapping/01_LS_Reflectance_and_Indices/SS\n",
    "data = xr.open_dataset('Tas2016_Sumac_Forest_reflectance_indices.nc')\n",
    "data = data.resample(time=\"M\").mean().dropna('time',how='all')"
   ]
  },
  {
   "cell_type": "raw",
   "metadata": {},
   "source": [
    "NEW APPROACH\n",
    "- CREATE A 'FORWARD FILL' FUNCTION TO ROLL THROUGH NAN VALUES. \n",
    "THIS WILL ENSURE THAT THE .DIFF('TIME') METHOD WILL RETRIEVE THE LAST NON-NAN VALUE"
   ]
  },
  {
   "cell_type": "code",
   "execution_count": 6,
   "metadata": {},
   "outputs": [],
   "source": [
    "def _forward_fill(Input_DataArray):\n",
    "    temp_array = Input_DataArray\n",
    "    \n",
    "    for i in np.arange(0,len(temp_array.time)):\n",
    "        temp_array = temp_array.fillna(temp_array.shift(time=1))\n",
    "    \n",
    "    return(temp_array)\n",
    "\n",
    "\n",
    "def _identify_burned_area(Input_DataArray,lag0_threshold, lag1_threshold):\n",
    "    \n",
    "    A = _forward_fill(Input_DataArray)\n",
    "    B1 = A - A.shift(time=1)\n",
    "    B2 = A.shift(time=-1)-A.shift(time=1)\n",
    "    \n",
    "    C = B1.where(B1 < lag0_threshold)\n",
    "    D = (B1 < lag0_threshold) & (B2 < lag1_threshold)\n",
    "    \n",
    "    return D\n"
   ]
  },
  {
   "cell_type": "code",
   "execution_count": null,
   "metadata": {
    "scrolled": true
   },
   "outputs": [
    {
     "name": "stdout",
     "output_type": "stream",
     "text": [
      "/g/data1a/xc0/user/Ram/Burn Mapping/02 Git/burn-mapping/notebooks/Ram\n"
     ]
    },
    {
     "name": "stderr",
     "output_type": "stream",
     "text": [
      "/g/data/v10/public/modules/agdc-py3-env/20171214/envs/agdc/lib/python3.6/site-packages/xarray/core/common.py:594: FutureWarning: pd.TimeGrouper is deprecated and will be removed; Please use pd.Grouper(freq=...)\n",
      "  label=label, base=base)\n"
     ]
    },
    {
     "name": "stdout",
     "output_type": "stream",
     "text": [
      "I am densified (external_values, 7249 elements)\n"
     ]
    },
    {
     "name": "stderr",
     "output_type": "stream",
     "text": [
      "/g/data/v10/public/modules/agdc-py3-env/20171214/envs/agdc/lib/python3.6/site-packages/xarray/core/common.py:594: FutureWarning: pd.TimeGrouper is deprecated and will be removed; Please use pd.Grouper(freq=...)\n",
      "  label=label, base=base)\n",
      "/g/data/v10/public/modules/agdc-py3-env/20171214/envs/agdc/lib/python3.6/site-packages/xarray/core/common.py:594: FutureWarning: pd.TimeGrouper is deprecated and will be removed; Please use pd.Grouper(freq=...)\n",
      "  label=label, base=base)\n"
     ]
    },
    {
     "name": "stdout",
     "output_type": "stream",
     "text": [
      "I am densified (external_values, 7249 elements)\n"
     ]
    },
    {
     "name": "stderr",
     "output_type": "stream",
     "text": [
      "/g/data/v10/public/modules/agdc-py3-env/20171214/envs/agdc/lib/python3.6/site-packages/xarray/core/common.py:594: FutureWarning: pd.TimeGrouper is deprecated and will be removed; Please use pd.Grouper(freq=...)\n",
      "  label=label, base=base)\n",
      "/g/data/v10/public/modules/agdc-py3-env/20171214/envs/agdc/lib/python3.6/site-packages/xarray/core/common.py:594: FutureWarning: pd.TimeGrouper is deprecated and will be removed; Please use pd.Grouper(freq=...)\n",
      "  label=label, base=base)\n"
     ]
    },
    {
     "name": "stdout",
     "output_type": "stream",
     "text": [
      "I am densified (external_values, 7249 elements)\n"
     ]
    },
    {
     "name": "stderr",
     "output_type": "stream",
     "text": [
      "/g/data/v10/public/modules/agdc-py3-env/20171214/envs/agdc/lib/python3.6/site-packages/xarray/core/common.py:594: FutureWarning: pd.TimeGrouper is deprecated and will be removed; Please use pd.Grouper(freq=...)\n",
      "  label=label, base=base)\n",
      "/g/data/v10/public/modules/agdc-py3-env/20171214/envs/agdc/lib/python3.6/site-packages/xarray/core/common.py:594: FutureWarning: pd.TimeGrouper is deprecated and will be removed; Please use pd.Grouper(freq=...)\n",
      "  label=label, base=base)\n"
     ]
    },
    {
     "name": "stdout",
     "output_type": "stream",
     "text": [
      "I am densified (external_values, 7249 elements)\n"
     ]
    },
    {
     "name": "stderr",
     "output_type": "stream",
     "text": [
      "/g/data/v10/public/modules/agdc-py3-env/20171214/envs/agdc/lib/python3.6/site-packages/xarray/core/common.py:594: FutureWarning: pd.TimeGrouper is deprecated and will be removed; Please use pd.Grouper(freq=...)\n",
      "  label=label, base=base)\n",
      "/g/data/v10/public/modules/agdc-py3-env/20171214/envs/agdc/lib/python3.6/site-packages/xarray/core/common.py:594: FutureWarning: pd.TimeGrouper is deprecated and will be removed; Please use pd.Grouper(freq=...)\n",
      "  label=label, base=base)\n"
     ]
    },
    {
     "name": "stdout",
     "output_type": "stream",
     "text": [
      "I am densified (external_values, 7249 elements)\n"
     ]
    },
    {
     "name": "stderr",
     "output_type": "stream",
     "text": [
      "/g/data/v10/public/modules/agdc-py3-env/20171214/envs/agdc/lib/python3.6/site-packages/xarray/core/common.py:594: FutureWarning: pd.TimeGrouper is deprecated and will be removed; Please use pd.Grouper(freq=...)\n",
      "  label=label, base=base)\n",
      "/g/data/v10/public/modules/agdc-py3-env/20171214/envs/agdc/lib/python3.6/site-packages/xarray/core/common.py:594: FutureWarning: pd.TimeGrouper is deprecated and will be removed; Please use pd.Grouper(freq=...)\n",
      "  label=label, base=base)\n"
     ]
    },
    {
     "name": "stdout",
     "output_type": "stream",
     "text": [
      "I am densified (external_values, 7249 elements)\n"
     ]
    },
    {
     "name": "stderr",
     "output_type": "stream",
     "text": [
      "/g/data/v10/public/modules/agdc-py3-env/20171214/envs/agdc/lib/python3.6/site-packages/xarray/core/common.py:594: FutureWarning: pd.TimeGrouper is deprecated and will be removed; Please use pd.Grouper(freq=...)\n",
      "  label=label, base=base)\n",
      "/g/data/v10/public/modules/agdc-py3-env/20171214/envs/agdc/lib/python3.6/site-packages/xarray/core/common.py:594: FutureWarning: pd.TimeGrouper is deprecated and will be removed; Please use pd.Grouper(freq=...)\n",
      "  label=label, base=base)\n"
     ]
    },
    {
     "name": "stdout",
     "output_type": "stream",
     "text": [
      "I am densified (external_values, 7249 elements)\n"
     ]
    },
    {
     "name": "stderr",
     "output_type": "stream",
     "text": [
      "/g/data/v10/public/modules/agdc-py3-env/20171214/envs/agdc/lib/python3.6/site-packages/xarray/core/common.py:594: FutureWarning: pd.TimeGrouper is deprecated and will be removed; Please use pd.Grouper(freq=...)\n",
      "  label=label, base=base)\n",
      "/g/data/v10/public/modules/agdc-py3-env/20171214/envs/agdc/lib/python3.6/site-packages/xarray/core/common.py:594: FutureWarning: pd.TimeGrouper is deprecated and will be removed; Please use pd.Grouper(freq=...)\n",
      "  label=label, base=base)\n"
     ]
    },
    {
     "name": "stdout",
     "output_type": "stream",
     "text": [
      "I am densified (external_values, 7249 elements)\n"
     ]
    }
   ],
   "source": [
    "### THIS CELL FOR GOAL-SEEKING THE OPTIMAL THRESHOLD VALUE (i.e. the one that maximises the classification accuracy)\n",
    "\n",
    "%cd /g/data/xc0/user/Ram/Burn Mapping/02 Git/burn-mapping/notebooks/Ram\n",
    "from CreateValidatedBurnMask import _CreateValidatedBurnMask\n",
    "\n",
    "accuracy_list = [0,0]\n",
    "\n",
    "threshold = -0.10\n",
    "\n",
    "for i in np.arange(-1,0.2,0.05):\n",
    "    \n",
    "    threshold=i\n",
    "    \n",
    "    data['Classified_Burned'] = _identify_burned_area(data.NBR, threshold , threshold/2 )\n",
    "\n",
    "    Classified_Burned = data.Classified_Burned.resample(time='AS-JUL').max('time').dropna('time',how='all')\n",
    "    Classified_Burned.name = 'Classified_Burned'\n",
    "\n",
    "    Validated_Burned = _CreateValidatedBurnMask(reference_DataArray=data)\n",
    "    Validated_Burned = Validated_Burned.resample(time='AS-JUL').max('time').dropna('time',how='all')\n",
    "    Validated_Burned.values[np.isnan(Validated_Burned.values)] = bool(0)\n",
    "    Validated_Burned = Validated_Burned.astype('bool')\n",
    "    Validated_Burned.name = 'Validated_Burned'\n",
    "\n",
    "    Comparison_Dataset = xr.merge((Validated_Burned,Classified_Burned) , join='inner')\n",
    "\n",
    "    classification_accuracy_df = pd.DataFrame([[0,0],[0,0]])\n",
    "    classification_accuracy_df.columns = ('Actual_Burned','Actual_Unburned')\n",
    "    classification_accuracy_df.index = ('Pred_Burned','Pred_Unburned')\n",
    "\n",
    "    classification_accuracy_df.iloc[0,0] = np.sum((Comparison_Dataset.Validated_Burned == True) & (Comparison_Dataset.Classified_Burned == True))\n",
    "    classification_accuracy_df.iloc[0,1] = np.sum((Comparison_Dataset.Validated_Burned == True) & (Comparison_Dataset.Classified_Burned == False))\n",
    "    classification_accuracy_df.iloc[1,0] = np.sum((Comparison_Dataset.Validated_Burned == False) & (Comparison_Dataset.Classified_Burned == True))\n",
    "    classification_accuracy_df.iloc[1,1] = np.sum((Comparison_Dataset.Validated_Burned == False) & (Comparison_Dataset.Classified_Burned == False))\n",
    "\n",
    "    #print(classification_accuracy_df)\n",
    "    \n",
    "    percentage_accuracy = 100*( classification_accuracy_df.iloc[0,0] + classification_accuracy_df.iloc[1,1] ) / classification_accuracy_df.sum().sum()\n",
    "\n",
    "\n",
    "    #print ('for threshold = ', i, \" - \",'classification accuracy = ' , percentage_accuracy, \"%\")\n",
    "    \n",
    "    accuracy_list = np.concatenate((accuracy_list,[i,percentage_accuracy]), axis=0)\n",
    "\n",
    "accuracy_list = pd.DataFrame(np.array(accuracy_list).reshape(25,2))\n",
    "print(accuracy_list)"
   ]
  },
  {
   "cell_type": "code",
   "execution_count": 165,
   "metadata": {},
   "outputs": [],
   "source": []
  },
  {
   "cell_type": "code",
   "execution_count": 166,
   "metadata": {},
   "outputs": [
    {
     "name": "stderr",
     "output_type": "stream",
     "text": [
      "/g/data/v10/public/modules/agdc-py3-env/20171214/envs/agdc/lib/python3.6/site-packages/xarray/core/common.py:594: FutureWarning: pd.TimeGrouper is deprecated and will be removed; Please use pd.Grouper(freq=...)\n",
      "  label=label, base=base)\n"
     ]
    },
    {
     "name": "stdout",
     "output_type": "stream",
     "text": [
      "I am densified (external_values, 7249 elements)\n",
      "               Actual_Burned  Actual_Unburned\n",
      "Pred_Burned            46494            25999\n",
      "Pred_Unburned           6060           715667\n",
      "for threshold =  0.15  -  classification accuracy =  95.9634610058 %\n"
     ]
    },
    {
     "name": "stderr",
     "output_type": "stream",
     "text": [
      "/g/data/v10/public/modules/agdc-py3-env/20171214/envs/agdc/lib/python3.6/site-packages/xarray/core/common.py:594: FutureWarning: pd.TimeGrouper is deprecated and will be removed; Please use pd.Grouper(freq=...)\n",
      "  label=label, base=base)\n"
     ]
    }
   ],
   "source": [
    "threshold = -0.35\n",
    "\n",
    "data['Classified_Burned'] = _identify_burned_area(data.NBR, threshold , threshold/2 )\n",
    "\n",
    "Classified_Burned = data.Classified_Burned.resample(time='AS-JUL').max('time').dropna('time',how='all')\n",
    "Classified_Burned.name = 'Classified_Burned'\n",
    "\n",
    "Validated_Burned = _CreateValidatedBurnMask(reference_DataArray=data)\n",
    "Validated_Burned = Validated_Burned.resample(time='AS-JUL').max('time').dropna('time',how='all')\n",
    "Validated_Burned.values[np.isnan(Validated_Burned.values)] = bool(0)\n",
    "Validated_Burned = Validated_Burned.astype('bool')\n",
    "Validated_Burned.name = 'Validated_Burned'\n",
    "\n",
    "Comparison_Dataset = xr.merge((Validated_Burned,Classified_Burned) , join='inner')\n",
    "\n",
    "classification_accuracy_df = pd.DataFrame([[0,0],[0,0]])\n",
    "classification_accuracy_df.columns = ('Actual_Burned','Actual_Unburned')\n",
    "classification_accuracy_df.index = ('Pred_Burned','Pred_Unburned')\n",
    "\n",
    "classification_accuracy_df.iloc[0,0] = np.sum((Comparison_Dataset.Validated_Burned == True) & (Comparison_Dataset.Classified_Burned == True))\n",
    "classification_accuracy_df.iloc[0,1] = np.sum((Comparison_Dataset.Validated_Burned == True) & (Comparison_Dataset.Classified_Burned == False))\n",
    "classification_accuracy_df.iloc[1,0] = np.sum((Comparison_Dataset.Validated_Burned == False) & (Comparison_Dataset.Classified_Burned == True))\n",
    "classification_accuracy_df.iloc[1,1] = np.sum((Comparison_Dataset.Validated_Burned == False) & (Comparison_Dataset.Classified_Burned == False))\n",
    "\n",
    "print(classification_accuracy_df)\n",
    "\n",
    "percentage_accuracy = 100*( classification_accuracy_df.iloc[0,0] + classification_accuracy_df.iloc[1,1] ) / classification_accuracy_df.sum().sum()\n",
    "\n",
    "print ('for threshold = ', threshold, \" - \",'classification accuracy = ' , percentage_accuracy, \"%\")\n"
   ]
  },
  {
   "cell_type": "code",
   "execution_count": null,
   "metadata": {},
   "outputs": [],
   "source": []
  },
  {
   "cell_type": "code",
   "execution_count": null,
   "metadata": {},
   "outputs": [],
   "source": []
  },
  {
   "cell_type": "code",
   "execution_count": 167,
   "metadata": {},
   "outputs": [
    {
     "data": {
      "text/plain": [
       "<xarray.plot.facetgrid.FacetGrid at 0x7f7412a2bef0>"
      ]
     },
     "execution_count": 167,
     "metadata": {},
     "output_type": "execute_result"
    },
    {
     "data": {
      "image/png": "[encoded data removed]",
      "text/plain": [
       "<matplotlib.figure.Figure at 0x7f7412a2b240>"
      ]
     },
     "metadata": {},
     "output_type": "display_data"
    },
    {
     "data": {
      "image/png": "[encoded data removed]",
      "text/plain": [
       "<matplotlib.figure.Figure at 0x7f7412a2b080>"
      ]
     },
     "metadata": {},
     "output_type": "display_data"
    }
   ],
   "source": [
    "Comparison_Dataset.Classified_Burned.plot.imshow(col='time',col_wrap=5)\n",
    "\n",
    "Comparison_Dataset.Validated_Burned.plot.imshow(col='time',col_wrap=5)"
   ]
  },
  {
   "cell_type": "code",
   "execution_count": null,
   "metadata": {},
   "outputs": [],
   "source": []
  }
 ],
 "metadata": {
  "kernelspec": {
   "display_name": "Python 3",
   "language": "python",
   "name": "python3"
  },
  "language_info": {
   "codemirror_mode": {
    "name": "ipython",
    "version": 3
   },
   "file_extension": ".py",
   "mimetype": "text/x-python",
   "name": "python",
   "nbconvert_exporter": "python",
   "pygments_lexer": "ipython3",
   "version": "3.6.3"
  }
 },
 "nbformat": 4,
 "nbformat_minor": 2
}
