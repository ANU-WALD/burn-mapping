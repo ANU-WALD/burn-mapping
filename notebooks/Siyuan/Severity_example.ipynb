{
 "cells": [
  {
   "cell_type": "code",
   "execution_count": null,
   "metadata": {},
   "outputs": [],
   "source": [
    "import xarray as xr\n",
    "import numpy as np\n",
    "from geomedian import geometric_median #import the geomedian module\n",
    "from cosdistance import Cosdistance #import the cosine distance module\n",
    "from datetime import datetime, timedelta\n",
    "from loaddea import loaddea\n",
    "from severitymapping import severitymapping\n",
    "%matplotlib inline\n",
    "import matplotlib.pyplot as plt\n",
    "import warnings\n",
    "warnings.filterwarnings(\"ignore\")"
   ]
  },
  {
   "cell_type": "code",
   "execution_count": null,
   "metadata": {},
   "outputs": [],
   "source": [
    "# get the data from the datacube\n",
    "locationname = 'MtDavidStateForest' #define the name of the location and used in the filename\n",
    "latmin = -33.96 #define the study area with top left and bottom right corner latitude and longitude\n",
    "latmax = -33.67\n",
    "lonmin = 149.36\n",
    "lonmax = 149.71\n",
    "startdate = datetime(2005,1,1) #define the starting and ending period\n",
    "stopdate = datetime(2006,12,31)\n",
    "landsat_numbers = [5] # the number of landsat sensor, it can be single sensor or multiple ones e.g.[5,8]"
   ]
  },
  {
   "cell_type": "code",
   "execution_count": null,
   "metadata": {},
   "outputs": [],
   "source": [
    "# load the data for the selected region and period use the loaddea module, quality pixel mask has been applied\n",
    "data = loaddea(latmin,latmax,lonmin,lonmax,startdate,stopdate,landsat_numbers) "
   ]
  },
  {
   "cell_type": "code",
   "execution_count": null,
   "metadata": {},
   "outputs": [],
   "source": [
    "#calculate the Geomatric Median for the whole period and the cosine distance relative to the geomatric median\n",
    "def Geomatric_Median_Cosdist(data):\n",
    "    MaxInter = 60\n",
    "    tol      = 1.e-7\n",
    "    Nbands = 6\n",
    "    GeoMed= np.empty((Nbands,len(data.y),len(data.x)))\n",
    "    GeoMed.fill(np.nan)\n",
    "    cosdist = np.empty((len(data.time),len(data.y),len(data.x)))\n",
    "    #for x in range(0,len(data.x)):\n",
    "    for y in range(0,len(data.y)):\n",
    "        X = np.empty((Nbands,len(data.time),len(data.x)))\n",
    "        X[0,:,:] = data.blue[:,y,:] \n",
    "        X[1,:,:] = data.green[:,y,:]\n",
    "        X[2,:,:] = data.red[:,y,:]\n",
    "        X[3,:,:] = data.nir[:,y,:]\n",
    "        X[4,:,:] = data.swir1[:,y,:]\n",
    "        X[5,:,:] = data.swir2[:,y,:]\n",
    "        X[X<=0] = np.nan\n",
    "        GeoMed[:,y,:] = np.transpose(np.vstack([geometric_median(X[:,:,x],tol,MaxInter) for x in range(0,len(data.x))])) #calculate geomatric median\n",
    "        #Euc = [Eucdistance(GeoMed[:,y,x],X[:,:,x]) for x in range(0,len(data.x))] # Euclidean distance can also be calculated\n",
    "        Cos = [Cosdistance(GeoMed[:,y,x],X[:,:,x]) for x in range(0,len(data.x))]\n",
    "        #Eucdist[:,y,:]=np.transpose(np.vstack(Euc))\n",
    "        cosdist[:,y,:]=np.transpose(np.vstack(Cos)) #cosine distance\n",
    "    \n",
    "    return GeoMed, cosdist"
   ]
  },
  {
   "cell_type": "code",
   "execution_count": null,
   "metadata": {},
   "outputs": [],
   "source": [
    "# calculate the Geomatric Median for the given period and cosine distance\n",
    "GeoMed,cosdist = Geomatric_Median_Cosdist(data)"
   ]
  },
  {
   "cell_type": "code",
   "execution_count": null,
   "metadata": {},
   "outputs": [],
   "source": [
    "#save Gemetric median and cosine distance to netcdf\n",
    "filename = locationname+'_GMandDist_'+startdate.strftime(\"%Y\")+'_'+stopdate.strftime(\"%Y\")+'_landsat'+str(landsat_numbers[0])+'.nc'\n",
    "ds = xr.Dataset({'blue':(('y','x'),GeoMed[0,:,:]),'green':(('y','x'),GeoMed[1,:,:]),'red':(('y','x'),GeoMed[2,:,:]),\\\n",
    "               'nir':(('y','x'),GeoMed[3,:,:]),'swir1':(('y','x'),GeoMed[4,:,:]),'swir2':(('y','x'),GeoMed[5,:,:]),\\\n",
    "                'CosDist':(('time','y','x'),cosdist[:])},\\\n",
    "               coords={'time':data.time[:],'y':data.y[:],'x':data.x[:]},attrs={'geospatial_bounds_crs':'EPSG:4326','lat_min':latmin,\\\n",
    "                                                        'lat_max':latmax,'lon_min':lonmin,\\\n",
    "                                                        'lon_max':lonmax})\n",
    "\n",
    "ds.time.attrs=[]\n",
    "ds.to_netcdf('/g/data/xc0/project/Burn_Mapping/Geometric_Median/'+filename,'w')"
   ]
  },
  {
   "cell_type": "code",
   "execution_count": null,
   "metadata": {
    "scrolled": true
   },
   "outputs": [],
   "source": [
    "#Severity mapping and duration of change\n",
    "severity,startdates,duration = severitymapping(cosdist,ds.time)"
   ]
  },
  {
   "cell_type": "code",
   "execution_count": null,
   "metadata": {},
   "outputs": [],
   "source": [
    "#plot the severity map or duration\n",
    "import pandas as pd\n",
    "colors = pd.read_fwf('mycolormap.txt',header=None)\n",
    "import matplotlib as mpl\n",
    "mycolormap = np.zeros((len(colors),3))\n",
    "mycolormap[:,0]=colors[0]\n",
    "mycolormap[:,1]=colors[1]\n",
    "mycolormap[:,2]=colors[2]\n",
    "cmap = mpl.colors.LinearSegmentedColormap.from_list('my_colormap',\n",
    "          mycolormap/256)\n",
    "\n",
    "plt.figure(figsize=(7,7))\n",
    "im=plt.imshow(severity[:,:],cmap=cmap,vmin=1,vmax=40)\n",
    "plt.colorbar(im,fraction=0.03, pad=0.05)\n",
    "plt.axis('off')\n",
    "plt.title('Severity')"
   ]
  },
  {
   "cell_type": "code",
   "execution_count": null,
   "metadata": {},
   "outputs": [],
   "source": [
    "# save the severity results in netcdf if needed\n",
    "outputfilename = '/g/data/xc0/project/Burn_Mapping/SeverityMapping/'+locationname+'_Severity_'+startdate.strftime(\"%Y\")+'_'+stopdate.strftime(\"%Y\")+'_landsat'+str(landsat_numbers[0])+'.nc'\n",
    "ds2 = xr.Dataset({'Severity':(('y','x'),severity[:,:]),\\\n",
    "                 'Duration':(('y','x'),duration[:,:])},coords={'y':data.y[:],'x':data.x[:]})\n",
    "ds2.to_netcdf(outputfilename)"
   ]
  },
  {
   "cell_type": "code",
   "execution_count": null,
   "metadata": {},
   "outputs": [],
   "source": []
  },
  {
   "cell_type": "code",
   "execution_count": null,
   "metadata": {},
   "outputs": [],
   "source": []
  }
 ],
 "metadata": {
  "kernelspec": {
   "display_name": "Python 3",
   "language": "python",
   "name": "python3"
  },
  "language_info": {
   "codemirror_mode": {
    "name": "ipython",
    "version": 3
   },
   "file_extension": ".py",
   "mimetype": "text/x-python",
   "name": "python",
   "nbconvert_exporter": "python",
   "pygments_lexer": "ipython3",
   "version": "3.6.3"
  }
 },
 "nbformat": 4,
 "nbformat_minor": 2
}
