{
 "cells": [
  {
   "cell_type": "markdown",
   "metadata": {
    "collapsed": true
   },
   "source": [
    "Calculation of Geometric Median, EucDist, CosDist"
   ]
  },
  {
   "cell_type": "code",
   "execution_count": null,
   "metadata": {},
   "outputs": [],
   "source": [
    "import xarray as xr\n",
    "import numpy as np\n",
    "from geomedian import geometric_median, spectral_angle,medoid #import the geomedian module\n",
    "%matplotlib inline\n",
    "import matplotlib.pyplot as plt\n",
    "import warnings\n",
    "warnings.filterwarnings(\"ignore\")"
   ]
  },
  {
   "cell_type": "code",
   "execution_count": 2,
   "metadata": {},
   "outputs": [],
   "source": [
    "# example of calculating the geometric median  from netcdf inputs \n",
    "file = '/g/data/xc0/project/Burn_Mapping/Sumac_forest_TAS_2014_2017_100m_landsat8.nc'\n",
    "data = xr.open_dataset(file)"
   ]
  },
  {
   "cell_type": "code",
   "execution_count": 3,
   "metadata": {},
   "outputs": [],
   "source": [
    "def Eucdistance(ref,obs):\n",
    "    EucDist = np.transpose(np.transpose(obs) - ref)\n",
    "    EucNorm = np.sqrt(np.sum(EucDist**2,axis=0))\n",
    "    \n",
    "    return EucNorm\n",
    "    \n",
    "    "
   ]
  },
  {
   "cell_type": "code",
   "execution_count": 4,
   "metadata": {},
   "outputs": [],
   "source": [
    "def Cosdistance(ref,obs):\n",
    "    cosdist = np.empty((obs.shape[1],))\n",
    "    cosdist.fill(np.nan)\n",
    "    index = np.where(~np.isnan(obs[0,:]))[0]\n",
    "    tmp = [1 - np.sum(ref*obs[:,t])/(np.sqrt(np.sum(ref**2))*np.sqrt(np.sum(obs[:,t]**2))) for t in index]\n",
    "    cosdist[index] = np.transpose(tmp)\n",
    "    return cosdist"
   ]
  },
  {
   "cell_type": "code",
   "execution_count": null,
   "metadata": {},
   "outputs": [],
   "source": [
    "MaxInter = 60\n",
    "tol      = 1.e-7\n",
    "Nbands = 6\n",
    "GeoMed= np.empty((Nbands,len(data.y),len(data.x)))\n",
    "GeoMed.fill(np.nan)\n",
    "SA = np.empty((len(data.time),len(data.y),len(data.x)))\n",
    "cosdist = np.empty((len(data.time),len(data.y),len(data.x)))\n",
    "Eucdist = np.empty((len(data.time),len(data.y),len(data.x)))\n",
    "#for x in range(0,len(data.x)):\n",
    "for y in range(0,len(data.y)):\n",
    "    X = np.empty((Nbands,len(data.time),len(data.x)))\n",
    "    X[0,:,:] = data.blue[:,y,:]*data.pixmask[:,y,:] \n",
    "    X[1,:,:] = data.green[:,y,:]*data.pixmask[:,y,:]\n",
    "    X[2,:,:] = data.red[:,y,:]*data.pixmask[:,y,:]\n",
    "    X[3,:,:] = data.nir[:,y,:]*data.pixmask[:,y,:]\n",
    "    X[4,:,:] = data.swir1[:,y,:]*data.pixmask[:,y,:]\n",
    "    X[5,:,:] = data.swir2[:,y,:]*data.pixmask[:,y,:]\n",
    "    X[X<=0] = np.nan\n",
    "    GeoMed[:,y,:] = np.transpose(np.vstack([geometric_median(X[:,:,x],tol,MaxInter) for x in range(0,len(data.x))])) #calculate geomatric median\n",
    "    Euc = [Eucdistance(GeoMed[:,y,x],X[:,:,x]) for x in range(0,len(data.x))]\n",
    "    Cos = [Cosdistance(GeoMed[:,y,x],X[:,:,x]) for x in range(0,len(data.x))]\n",
    "    Eucdist[:,y,:]=np.transpose(np.vstack(Euc))\n",
    "    cosdist[:,y,:]=np.transpose(np.vstack(Cos))\n"
   ]
  },
  {
   "cell_type": "code",
   "execution_count": null,
   "metadata": {},
   "outputs": [],
   "source": [
    "def stretch_RGB(data,minimum,maximum):\n",
    "    \n",
    "    tmp = data\n",
    "    #a = (tmp-np.percentile(tmp,3))/(np.percentile(tmp,97)-np.percentile(tmp,3))*255\n",
    "    img = (tmp-minimum)/(maximum-minimum)*255    \n",
    "    return img\n"
   ]
  },
  {
   "cell_type": "code",
   "execution_count": null,
   "metadata": {},
   "outputs": [],
   "source": [
    "from PIL import Image,ImageEnhance\n",
    "#plot the geometric median with swir2,nir and green band as R,G,B\n",
    "rgbArray = np.zeros((GeoMed.shape[1],GeoMed.shape[2],3), 'uint8')\n",
    "rgbArray[..., 0] = (stretch_RGB(GeoMed[5,:,:],100,900))\n",
    "rgbArray[..., 1] = (stretch_RGB(GeoMed[3,:,:],150,3000))\n",
    "rgbArray[..., 2] = (stretch_RGB(GeoMed[1,:,:],100,600))\n",
    "img = Image.fromarray(rgbArray)\n",
    "plt.imshow(img)"
   ]
  },
  {
   "cell_type": "code",
   "execution_count": null,
   "metadata": {},
   "outputs": [],
   "source": [
    "#plot EMAD and SMAD as the median of EucDist and CosDist\n",
    "\n",
    "EDist = Eucdist\n",
    "CDist = cosdist\n",
    "EMAD = np.nanmedian(EDist,axis=0)\n",
    "SMAD = np.nanmedian(CDist,axis=0)\n",
    "plt.imshow(SMAD,cmap='Reds')\n",
    "plt.colorbar()"
   ]
  },
  {
   "cell_type": "code",
   "execution_count": null,
   "metadata": {},
   "outputs": [],
   "source": []
  },
  {
   "cell_type": "code",
   "execution_count": null,
   "metadata": {},
   "outputs": [],
   "source": [
    "#save Gemetric median to netcdf\n",
    "ds = xr.Dataset({'blue':(('y','x'),GeoMed[0,:,:]),'green':(('y','x'),GeoMed[1,:,:]),'red':(('y','x'),GeoMed[2,:,:]),\\\n",
    "               'nir':(('y','x'),GeoMed[3,:,:]),'swir1':(('y','x'),GeoMed[4,:,:]),'swir2':(('y','x'),GeoMed[5,:,:]),\\\n",
    "                'EucDist':(('time','y','x'),EDist[:]),'CosDist':(('time','y','x'),CDist[:])},\\\n",
    "               coords={'time':data.time[:],'y':data.y[:],'x':data.x[:]},attrs={'geospatial_bounds_crs':'EPSG:4326','lat_min':data.attrs['lat_min'],\\\n",
    "                                                        'lat_max':data.attrs['lat_max'],'lon_min':data.attrs['lon_min'],\\\n",
    "                                                        'lon_max':data.attrs['lon_max']})\n",
    "ds.to_netcdf('/g/data/xc0/project/Burn_Mapping/Geometric_Median/Sumac_forest_TAS_GMandDIST_2014_2017_landsat8.nc','w')"
   ]
  },
  {
   "cell_type": "code",
   "execution_count": null,
   "metadata": {},
   "outputs": [],
   "source": [
    "row = 150\n",
    "col = 100\n",
    "CDist = cosdist[:,row,col]"
   ]
  },
  {
   "cell_type": "code",
   "execution_count": null,
   "metadata": {},
   "outputs": [],
   "source": [
    "outlier = np.nanpercentile(CDist,75)+1.5*(np.nanpercentile(CDist,75)-np.nanpercentile(CDist,25))\n",
    "plt.figure(figsize=(8,3))\n",
    "plt.plot(CDist,'-o')\n",
    "plt.plot([0,41],[outlier,outlier],'--')\n",
    "plt.ylabel('CosDist')\n",
    "plt.xlim(0,41)"
   ]
  },
  {
   "cell_type": "code",
   "execution_count": null,
   "metadata": {},
   "outputs": [],
   "source": []
  },
  {
   "cell_type": "code",
   "execution_count": null,
   "metadata": {},
   "outputs": [],
   "source": []
  },
  {
   "cell_type": "code",
   "execution_count": null,
   "metadata": {},
   "outputs": [],
   "source": []
  },
  {
   "cell_type": "code",
   "execution_count": null,
   "metadata": {},
   "outputs": [],
   "source": []
  },
  {
   "cell_type": "code",
   "execution_count": null,
   "metadata": {},
   "outputs": [],
   "source": []
  },
  {
   "cell_type": "code",
   "execution_count": null,
   "metadata": {},
   "outputs": [],
   "source": []
  },
  {
   "cell_type": "code",
   "execution_count": null,
   "metadata": {},
   "outputs": [],
   "source": []
  }
 ],
 "metadata": {
  "kernelspec": {
   "display_name": "Python 3",
   "language": "python",
   "name": "python3"
  },
  "language_info": {
   "codemirror_mode": {
    "name": "ipython",
    "version": 3
   },
   "file_extension": ".py",
   "mimetype": "text/x-python",
   "name": "python",
   "nbconvert_exporter": "python",
   "pygments_lexer": "ipython3",
   "version": "3.6.3"
  }
 },
 "nbformat": 4,
 "nbformat_minor": 2
}
